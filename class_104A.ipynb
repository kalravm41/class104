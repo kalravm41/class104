{
  "nbformat": 4,
  "nbformat_minor": 0,
  "metadata": {
    "colab": {
      "name": "class 104A",
      "provenance": [],
      "authorship_tag": "ABX9TyMwtL/f7Z0D5wFvwzg3gdiy",
      "include_colab_link": true
    },
    "kernelspec": {
      "display_name": "Python 3",
      "name": "python3"
    }
  },
  "cells": [
    {
      "cell_type": "markdown",
      "metadata": {
        "id": "view-in-github",
        "colab_type": "text"
      },
      "source": [
        "<a href=\"https://colab.research.google.com/github/kalravm41/class104/blob/main/class_104A.ipynb\" target=\"_parent\"><img src=\"https://colab.research.google.com/assets/colab-badge.svg\" alt=\"Open In Colab\"/></a>"
      ]
    },
    {
      "cell_type": "code",
      "metadata": {
        "colab": {
          "base_uri": "https://localhost:8080/"
        },
        "id": "GkF6G6g4W5Ra",
        "outputId": "8ee1c182-fa9f-4d34-9a9e-e35c8fca615a"
      },
      "source": [
        "import csv \n",
        "import collections\n",
        "\n",
        "with open('File.csv',newline='') as f :\n",
        "  reader = csv.reader(f)\n",
        "  f_data = list(reader)\n",
        "  f_data.pop(0)\n",
        "\n",
        "  new_data = []\n",
        "  for i in range(len(f_data)):\n",
        "    n_num = f_data[i][1]\n",
        "    new_data.append(float(n_num))\n",
        "\n",
        "  n = len(new_data)   \n",
        "  total = 0\n",
        "  for x in new_data :\n",
        "    total = total + x\n",
        "\n",
        "  mean = total/n\n",
        "\n",
        "  print(mean)   "
      ],
      "execution_count": 11,
      "outputs": [
        {
          "output_type": "stream",
          "text": [
            "67.99311359679979\n"
          ],
          "name": "stdout"
        }
      ]
    }
  ]
}